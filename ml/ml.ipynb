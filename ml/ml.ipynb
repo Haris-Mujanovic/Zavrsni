{
 "cells": [
  {
   "cell_type": "code",
   "execution_count": 1,
   "id": "9d69da82",
   "metadata": {},
   "outputs": [
    {
     "name": "stderr",
     "output_type": "stream",
     "text": [
      "c:\\Users\\Haris\\AppData\\Local\\Programs\\Python\\Python312\\Lib\\site-packages\\tqdm\\auto.py:21: TqdmWarning: IProgress not found. Please update jupyter and ipywidgets. See https://ipywidgets.readthedocs.io/en/stable/user_install.html\n",
      "  from .autonotebook import tqdm as notebook_tqdm\n"
     ]
    }
   ],
   "source": [
    "from sklearn.model_selection import train_test_split, GridSearchCV\n",
    "from sklearn.linear_model import LinearRegression, Ridge, Lasso\n",
    "from sklearn.ensemble import RandomForestRegressor, GradientBoostingRegressor\n",
    "from sklearn.svm import SVR\n",
    "from sklearn.metrics import mean_absolute_error, mean_squared_error, r2_score\n",
    "import shap\n"
   ]
  },
  {
   "cell_type": "code",
   "execution_count": null,
   "id": "e5b65705",
   "metadata": {},
   "outputs": [],
   "source": [
    "X = df.drop(\"math score\", axis=1)\n",
    "y = df[\"math score\"]\n",
    "\n",
    "categorical_cols = X.select_dtypes(include=\"object\").columns.tolist()\n",
    "numerical_cols = X.select_dtypes(include=[\"int64\", \"float64\"]).columns.tolist()"
   ]
  },
  {
   "cell_type": "code",
   "execution_count": null,
   "id": "349e1653",
   "metadata": {},
   "outputs": [],
   "source": [
    "X_train, X_test, y_train, y_test = train_test_split(X_train, y_train, test_size=0.2, random_state=42)"
   ]
  },
  {
   "cell_type": "code",
   "execution_count": null,
   "id": "03422189",
   "metadata": {},
   "outputs": [],
   "source": [
    "models = {\n",
    "    \"LinearRegression\": LinearRegression(),\n",
    "    \"Ridge\": Ridge(),\n",
    "    \"Lasso\": Lasso(),\n",
    "    \"RandomForest\": RandomForestRegressor(random_state=42),\n",
    "    \"GradientBoosting\": GradientBoostingRegressor(random_state=42),\n",
    "    \"SVR\": SVR()"
   ]
  },
  {
   "cell_type": "code",
   "execution_count": null,
   "id": "5557d7a5",
   "metadata": {},
   "outputs": [],
   "source": [
    "results_no_tuning = []\n",
    "preds_no_tuning = {}\n",
    "\n",
    "for name, model in models.items():\n",
    "    pipe = Pipeline([(\"pre\", preprocessor), (\"model\", model)])\n",
    "    pipe.fit(X_train, y_train)\n",
    "    preds = pipe.predict(X_test)\n",
    "    preds_no_tuning[name] = preds\n",
    "    results_no_tuning.append({\n",
    "        \"Model\": name,\n",
    "        \"MAE\": mean_absolute_error(y_test, preds),\n",
    "        \"RMSE\": np.sqrt(mean_squared_error(y_test, preds)),\n",
    "        \"R2\": r2_score(y_test, preds)\n",
    "    })\n",
    "df_no_tuning = pd.DataFrame(results_no_tuning).sort_values(by=\"R2\", ascending=False)\n",
    "\n",
    "print(\"Evaluation WITHOUT Tuning\")\n",
    "print(df_no_tuning)"
   ]
  },
  {
   "cell_type": "code",
   "execution_count": null,
   "id": "ba57d5ad",
   "metadata": {},
   "outputs": [],
   "source": [
    "tuned_models = {\n",
    "    \"Ridge\": {\n",
    "        \"model\": Ridge(),\n",
    "        \"params\": {\"model__alpha\": [0.1, 1.0, 10.0]}\n",
    "    },\n",
    "    \"Lasso\": {\n",
    "        \"model\": Lasso(),\n",
    "        \"params\": {\"model__alpha\": [0.001, 0.01, 0.1, 1.0]}\n",
    "    },\n",
    "    \"SVR\": {\n",
    "        \"model\": SVR(),\n",
    "        \"params\": {\"model__C\": [0.1, 1, 10], \"model__gamma\": [\"scale\", \"auto\"]}\n",
    "    },\n",
    "    \"RandomForest\": {\n",
    "        \"model\": RandomForestRegressor(random_state=42),\n",
    "        \"params\": {\"model__n_estimators\": [100, 200], \"model__max_depth\": [None, 10, 20]}\n",
    "        },\n",
    "    \"GradientBoosting\": {\n",
    "        \"model\": GradientBoostingRegressor(random_state=42),\n",
    "        \"params\": {\"model__n_estimators\": [100, 200], \"model__learning_rate\": [0.05, 0.1], \"model__max_depth\": [3, 5]}\n",
    "    }\n",
    "}"
   ]
  },
  {
   "cell_type": "code",
   "execution_count": null,
   "id": "b514eb6e",
   "metadata": {},
   "outputs": [],
   "source": [
    "# Tuning (ili \"fine-tuning\") je proces podešavanja hiperparametara modela\n",
    "# kako bi on radio što bolje na određenom skupu podataka.\n",
    "results_tuned = []\n",
    "best_estimators = {}\n",
    "\n",
    "for name, mp in tuned_models.items():\n",
    "    pipe = Pipeline([(\"pre\", preprocessor), (\"model\", mp[\"model\"])])\n",
    "    grid = GridSearchCV(pipe, mp[\"params\"], cv=5, scoring=\"r2\", n_jobs=-1)\n",
    "    grid.fit(X_train, y_train)\n",
    "    preds = grid.predict(X_test)\n",
    "    best_estimators[name] = grid.best_estimator_\n",
    "    results_tuned.append({\n",
    "        \"Model\": name,\n",
    "        \"MAE\": mean_absolute_error(y_test, preds),\n",
    "        \"RMSE\": np.sqrt(mean_squared_error(y_test, preds)),\n",
    "        \"R2\": r2_score(y_test, preds),\n",
    "        \"Best Params\": grid.best_params_\n",
    "    })\n",
    "\n",
    "df_tuned = pd.DataFrame(results_tuned).sort_values(by=\"R2\", ascending=False)\n",
    "\n",
    "print(\"\\nEvaluation WITH Tuning\")\n",
    "print(df_tuned)"
   ]
  },
  {
   "cell_type": "code",
   "execution_count": null,
   "id": "d877f892",
   "metadata": {},
   "outputs": [],
   "source": [
    "comparison_df = pd.merge(\n",
    "    df_no_tuning,\n",
    "    df_tuned.drop(columns=[\"Best Params\"]),  \n",
    "    on=\"Model\",\n",
    "    suffixes=(\"_NoTuning\", \"_Tuned\")\n",
    ")\n",
    "\n",
    "comparison_df = comparison_df.sort_values(by=\"R2_Tuned\", ascending=False)\n",
    "\n",
    "print(\"Comparison of Models: No Tuning vs With Tuning\\n\")\n",
    "print(comparison_df)"
   ]
  },
  {
   "cell_type": "code",
   "execution_count": null,
   "id": "4dd145f1",
   "metadata": {},
   "outputs": [],
   "source": [
    "best_model_no_tuning_name = df_no_tuning.iloc[0][\"Model\"]\n",
    "best_model_tuned_name = df_tuned.iloc[0][\"Model\"]\n",
    "\n",
    "best_model_no_tuning = Pipeline([(\"pre\", preprocessor), (\"model\", models[best_model_no_tuning_name])])\n",
    "best_model_no_tuning.fit(X_train, y_train)\n",
    "\n",
    "best_model_tuned = best_estimators[best_model_tuned_name]\n",
    "\n",
    "preds_no = best_model_no_tuning.predict(X_test)\n",
    "preds_tuned = best_model_tuned.predict(X_test)\n",
    "\n",
    "compare_preds = pd.DataFrame({\n",
    "    \"Actual\": y_test.values,\n",
    "    f\"Predicted_{best_model_no_tuning_name}_NoTuning\": preds_no.round(2),\n",
    "    f\"Predicted_{best_model_tuned_name}_Tuned\": preds_tuned.round(2)\n",
    "})\n",
    "print(\"FOR MATH SCORE...\")\n",
    "print(compare_preds.head(15))"
   ]
  },
  {
   "cell_type": "code",
   "execution_count": null,
   "id": "09da23a6",
   "metadata": {},
   "outputs": [],
   "source": [
    "X_train_transformed = pipe.named_steps['pre'].transform(X_train)\n",
    "X_test_transformed = pipe.named_steps[\"pre\"].transform(X_test)\n",
    "\n",
    "encoder = pipe.named_steps['pre'].named_transformers_['cat']\n",
    "cat_feature_names = encoder.get_feature_names_out(categorical_cols)\n"
   ]
  },
  {
   "cell_type": "code",
   "execution_count": null,
   "id": "b38df3e2",
   "metadata": {},
   "outputs": [],
   "source": [
    "cat_f = [i for i in X_train if X_train[i].dtype == \"object\"]\n",
    "encoder = pipe.named_steps['pre'].named_transformers_['cat']\n",
    "cat_feature_names = encoder.get_feature_names_out(cat_f)\n",
    "cols= [i for i in cat_feature_names]\n",
    "cols.extend([\"reading_score\",\"writing_score\"])"
   ]
  },
  {
   "cell_type": "code",
   "execution_count": null,
   "id": "8eb749f3",
   "metadata": {},
   "outputs": [],
   "source": [
    "X_train_transformed = pd.DataFrame(X_train_transformed, columns=cols)"
   ]
  },
  {
   "cell_type": "code",
   "execution_count": null,
   "id": "a167b89b",
   "metadata": {},
   "outputs": [],
   "source": [
    "model = Ridge(alpha=1).fit(X_train_transformed,y_train)\n",
    "model.predict(X_test_transformed)\n",
    "explainer = shap.Explainer(model.predict,X_train_transformed)\n",
    "shap_values = explainer(X_train_transformed)\n",
    "shap.summary_plot(shap_values)\n",
    "# Koja kolona ima najviši uticaj\n",
    "# Što je više ka crvenom to su veće šanse da će imati veći math score"
   ]
  },
  {
   "cell_type": "code",
   "execution_count": null,
   "id": "2d181f91",
   "metadata": {},
   "outputs": [],
   "source": []
  }
 ],
 "metadata": {
  "kernelspec": {
   "display_name": "Python 3",
   "language": "python",
   "name": "python3"
  },
  "language_info": {
   "codemirror_mode": {
    "name": "ipython",
    "version": 3
   },
   "file_extension": ".py",
   "mimetype": "text/x-python",
   "name": "python",
   "nbconvert_exporter": "python",
   "pygments_lexer": "ipython3",
   "version": "3.12.6"
  }
 },
 "nbformat": 4,
 "nbformat_minor": 5
}
